{
 "cells": [
  {
   "cell_type": "code",
   "execution_count": 37,
   "metadata": {},
   "outputs": [
    {
     "data": {
      "text/plain": [
       "['{\"books\":\"https://www.anapioficeandfire.com/api/books\"',\n",
       " '\"characters\":\"https://www.anapioficeandfire.com/api/characters\"',\n",
       " '\"houses\":\"https://www.anapioficeandfire.com/api/houses\"}']"
      ]
     },
     "execution_count": 37,
     "metadata": {},
     "output_type": "execute_result"
    }
   ],
   "source": [
    "import requests\n",
    "from bs4 import BeautifulSoup\n",
    "\n",
    "page_link = \"https://www.anapioficeandfire.com/api\"\n",
    "user_headers = \"mozilla/5.0 (symbianos/9.4; u; series60/5.0 nokia5800d-1/21.0.025; profile/midp-2.1 configuration/cldc-1.1 ) applewebkit/413 (khtml, like gecko) safari/413\"\n",
    "response = requests.get(page_link, headers = {\"user-agent\": user_headers})\n",
    "html = response.text\n",
    "soup = BeautifulSoup(html, \"lxml\")\n",
    "obj = soup.find(\"p\").text.split(\",\")\n",
    "obj"
   ]
  },
  {
   "cell_type": "code",
   "execution_count": 36,
   "metadata": {},
   "outputs": [
    {
     "name": "stdout",
     "output_type": "stream",
     "text": [
      "\n",
      "Walder\n",
      "\n",
      "\n",
      "\n",
      "\n",
      "\n",
      "\n",
      "\n",
      "\n"
     ]
    }
   ],
   "source": [
    "import anapioficeandfire\n",
    "api = anapioficeandfire.API()\n",
    "jon_snow = api.get_characters(name = True)\n",
    "\n",
    "for title in jon_snow:\n",
    "    print(title.name)"
   ]
  },
  {
   "cell_type": "code",
   "execution_count": null,
   "metadata": {},
   "outputs": [],
   "source": []
  }
 ],
 "metadata": {
  "kernelspec": {
   "display_name": "Python 3",
   "language": "python",
   "name": "python3"
  },
  "language_info": {
   "codemirror_mode": {
    "name": "ipython",
    "version": 3
   },
   "file_extension": ".py",
   "mimetype": "text/x-python",
   "name": "python",
   "nbconvert_exporter": "python",
   "pygments_lexer": "ipython3",
   "version": "3.8.10"
  }
 },
 "nbformat": 4,
 "nbformat_minor": 4
}
